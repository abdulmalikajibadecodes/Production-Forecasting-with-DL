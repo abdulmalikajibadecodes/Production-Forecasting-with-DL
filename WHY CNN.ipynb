{
 "cells": [
  {
   "cell_type": "code",
   "execution_count": null,
   "metadata": {
    "id": "8oAmd6jfC4UX"
   },
   "outputs": [],
   "source": [
    "import numpy as np\n",
    "import pandas as pd\n",
    "import matplotlib.pyplot as plt\n",
    "import seaborn as sns\n",
    "import tensorflow as tf"
   ]
  },
  {
   "cell_type": "code",
   "execution_count": null,
   "metadata": {
    "id": "dKya6WzyDJ1u"
   },
   "outputs": [],
   "source": [
    " df = pd.read_csv('Volve P-12_DatesCorrected.txt',index_col=0, parse_dates = True)"
   ]
  },
  {
   "cell_type": "code",
   "execution_count": null,
   "metadata": {
    "id": "IWyPROblDRtZ"
   },
   "outputs": [],
   "source": [
    "domain_feat = ['ON_STREAM_HRS',\n",
    "              'AVG_DOWNHOLE_PRESSURE',\n",
    "              'AVG_ANNULUS_PRESS',\n",
    "              'AVG_CHOKE_SIZE_P in percentage',\n",
    "              'AVG_WHP_P']"
   ]
  },
  {
   "cell_type": "code",
   "execution_count": null,
   "metadata": {
    "colab": {
     "base_uri": "https://localhost:8080/"
    },
    "id": "PvFzpkKwDi37",
    "outputId": "7db3e266-490d-4e24-e9f5-e11d90f65fb2"
   },
   "outputs": [
    {
     "data": {
      "text/plain": [
       "((2632, 5), (659, 5))"
      ]
     },
     "execution_count": 291,
     "metadata": {},
     "output_type": "execute_result"
    }
   ],
   "source": [
    "target = 'BORE_OIL_VOL'\n",
    "X = df[domain_feat]\n",
    "y = df[target]\n",
    "train_length = int(len(df) * 0.8)\n",
    "\n",
    "X_train , y_train = X.iloc[:train_length,:] , y[:train_length]\n",
    "\n",
    "X_test , y_test = X.iloc[train_length:, :] , y[train_length:]\n",
    "\n",
    "X_train.shape, X_test.shape"
   ]
  },
  {
   "cell_type": "code",
   "execution_count": null,
   "metadata": {
    "id": "Ix36qJSXDwUb"
   },
   "outputs": [],
   "source": [
    "CNN_data = df[domain_feat].copy()"
   ]
  },
  {
   "cell_type": "code",
   "execution_count": null,
   "metadata": {
    "id": "_0nrE9gmDwRy"
   },
   "outputs": [],
   "source": [
    "def prepare_multivariate_data_for_lstm(data, target_col, n_in=1, n_out=1, train_split=0.8):\n",
    "    \"\"\"\n",
    "    Preprocesses a multivariate time series dataset for use in an LSTM model.\n",
    "\n",
    "    Args:\n",
    "        df (pandas.DataFrame): Input dataframe with time series data.\n",
    "        target_col (str): Name of the target column to be predicted.\n",
    "        n_in (int): Number of past time steps to use as input for each prediction (default: 1).\n",
    "        n_out (int): Number of future time steps to predict (default: 1).\n",
    "        train_split (float): Proportion of data to use for training (default: 0.8).\n",
    "\n",
    "    Returns:\n",
    "        tuple: X_train, y_train, X_test, y_test, scaler, n_features\n",
    "    \"\"\"\n",
    "    # Ensure that the dataframe is sorted by time\n",
    "    data = data.sort_index()\n",
    "\n",
    "    # Get the names of all columns in the dataframe\n",
    "    all_cols = data.columns.tolist()\n",
    "\n",
    "    # Ensure that the target column is in the dataframe\n",
    "    assert target_col in all_cols, f\"Target column '{target_col}' not found in dataframe.\"\n",
    "\n",
    "    # Remove the target column from the list of feature columns\n",
    "    feature_cols = [col for col in all_cols if col != target_col]\n",
    "\n",
    "    # Scale the data using a MinMaxScaler\n",
    "    scaler = MinMaxScaler(feature_range=(0, 1))\n",
    "    X_scaled = scaler.fit_transform(data[feature_cols])\n",
    "    y_scaled = scaler.fit_transform(data[[target_col]])\n",
    "\n",
    "    # Split the data into training and test sets\n",
    "    n_train = int(len(data) * train_split)\n",
    "    train_X_scaled, test_X_scaled = X_scaled[:n_train, :], X_scaled[n_train:, :]\n",
    "    train_y_scaled, test_y_scaled = y_scaled[:n_train, :], y_scaled[n_train:, :]\n",
    "\n",
    "    # Define the training and test data as numpy arrays\n",
    "    X_train = []\n",
    "    y_train = []\n",
    "    for i in range(n_in, len(train_X_scaled)):\n",
    "        X_train.append(train_X_scaled[i-n_in:i, :])\n",
    "        y_train.append(train_y_scaled[i:i+n_out, 0])\n",
    "    X_train, y_train = np.array(X_train), np.array(y_train)\n",
    "\n",
    "    X_test = []\n",
    "    y_test = []\n",
    "    for i in range(n_in, len(test_X_scaled)):\n",
    "        X_test.append(test_X_scaled[i-n_in:i, :])\n",
    "        y_test.append(test_y_scaled[i:i+n_out, 0])\n",
    "    X_test, y_test = np.array(X_test), np.array(y_test)\n",
    "\n",
    "    # Determine the number of features\n",
    "    n_features = X_train.shape[2]\n",
    "\n",
    "    return X_train, y_train, X_test, y_test, scaler, n_features"
   ]
  },
  {
   "cell_type": "code",
   "execution_count": null,
   "metadata": {
    "id": "j11JkYoyELsa"
   },
   "outputs": [],
   "source": [
    "from keras.models import Sequential\n",
    "from keras.layers import LSTM, Dense\n",
    "import numpy as np\n",
    "from sklearn.preprocessing import StandardScaler\n",
    "from keras.layers import Conv1D, MaxPooling1D, Flatten, Dense, Dropout\n",
    "from keras.optimizers import Adam\n",
    "from sklearn.preprocessing import MinMaxScaler\n",
    "from sklearn.metrics import mean_absolute_error as mae"
   ]
  },
  {
   "cell_type": "code",
   "execution_count": null,
   "metadata": {
    "id": "YKet1HKzDwO_"
   },
   "outputs": [],
   "source": [
    "data = CNN_data\n",
    "target_col = 'BORE_OIL_VOL'\n",
    "n_in = 25\n",
    "n_out = 1\n",
    "\n",
    "\n",
    "X_train, y_train, X_test, y_test, scaler, n_features = prepare_multivariate_data_for_lstm(df, target_col, n_in, n_out, train_split=0.8)"
   ]
  },
  {
   "cell_type": "code",
   "execution_count": null,
   "metadata": {
    "colab": {
     "base_uri": "https://localhost:8080/"
    },
    "id": "uIxIHyE3DwL8",
    "outputId": "3de1c6e9-be2c-4b90-86e3-fe46277ae96b"
   },
   "outputs": [
    {
     "data": {
      "text/plain": [
       "((2607, 25, 13), (2607, 1), (634, 25, 13), (634, 1))"
      ]
     },
     "execution_count": 296,
     "metadata": {},
     "output_type": "execute_result"
    }
   ],
   "source": [
    "X_train.shape, y_train.shape, X_test.shape, y_test.shape"
   ]
  },
  {
   "cell_type": "code",
   "execution_count": null,
   "metadata": {
    "id": "T_3H0h-sDwJH"
   },
   "outputs": [],
   "source": [
    "# define the model\n",
    "def define_CNN(input_shape):\n",
    "    np.random.seed(42)\n",
    "    tf.random.set_seed(42)\n",
    "    model = Sequential()\n",
    "    model.add(Conv1D(filters=64, kernel_size=3, activation='relu', input_shape=input_shape))\n",
    "    model.add(MaxPooling1D(pool_size=2))\n",
    "    model.add(Conv1D(filters=32, kernel_size=3, activation='relu'))\n",
    "    model.add(MaxPooling1D(pool_size=2))\n",
    "    model.add(Flatten())\n",
    "    model.add(Dense(500, activation='relu'))\n",
    "    model.add(Dropout(0.2))\n",
    "    model.add(Dense(128, activation='relu'))\n",
    "    model.add(Dropout(0.2))\n",
    "    model.add(Dense(1, activation='linear'))\n",
    "\n",
    "    # compile the model\n",
    "    optimizer = Adam(lr=0.001)\n",
    "    model.compile(loss='mse', optimizer=optimizer, metrics=['mae'])\n",
    "\n",
    "    return model"
   ]
  },
  {
   "cell_type": "code",
   "execution_count": null,
   "metadata": {
    "colab": {
     "base_uri": "https://localhost:8080/"
    },
    "id": "brvfSNSkDwFM",
    "outputId": "4890c751-6bc6-4867-ecfe-7d67fd9661e9"
   },
   "outputs": [
    {
     "name": "stderr",
     "output_type": "stream",
     "text": [
      "/usr/local/lib/python3.9/dist-packages/keras/optimizers/optimizer_v2/adam.py:117: UserWarning: The `lr` argument is deprecated, use `learning_rate` instead.\n",
      "  super().__init__(name, **kwargs)\n"
     ]
    }
   ],
   "source": [
    "sequence_length = n_in\n",
    "num_features = n_features\n",
    "input_shape=(sequence_length, num_features)\n",
    "CNN_model = define_CNN(input_shape)"
   ]
  },
  {
   "cell_type": "code",
   "execution_count": null,
   "metadata": {
    "colab": {
     "base_uri": "https://localhost:8080/"
    },
    "id": "LdZwuJxADwAR",
    "outputId": "c051c4e5-e712-44f2-cae2-f292761c6067"
   },
   "outputs": [
    {
     "name": "stdout",
     "output_type": "stream",
     "text": [
      "82/82 [==============================] - 2s 13ms/step - loss: 0.0302 - mae: 0.1170\n"
     ]
    },
    {
     "data": {
      "text/plain": [
       "<keras.callbacks.History at 0x7f3aff9dc550>"
      ]
     },
     "execution_count": 299,
     "metadata": {},
     "output_type": "execute_result"
    }
   ],
   "source": [
    "CNN_model.fit(X_train, y_train)"
   ]
  },
  {
   "cell_type": "code",
   "execution_count": null,
   "metadata": {
    "colab": {
     "base_uri": "https://localhost:8080/"
    },
    "id": "5gNUBPshFT0k",
    "outputId": "d7684acb-ebe5-41d5-d23f-84a5592f3e2b"
   },
   "outputs": [
    {
     "name": "stdout",
     "output_type": "stream",
     "text": [
      "20/20 [==============================] - 0s 5ms/step\n",
      "82/82 [==============================] - 0s 2ms/step\n"
     ]
    }
   ],
   "source": [
    "CNN_test = CNN_model.predict(X_test)\n",
    "CNN_train = CNN_model.predict(X_train)\n",
    "\n",
    "\n",
    "CNN_train = scaler.inverse_transform(CNN_train)\n",
    "CNN_test = scaler.inverse_transform(CNN_test)\n",
    "y_train =scaler.inverse_transform(y_train)\n",
    "y_test = scaler.inverse_transform(y_test)\n"
   ]
  },
  {
   "cell_type": "code",
   "execution_count": null,
   "metadata": {
    "colab": {
     "base_uri": "https://localhost:8080/"
    },
    "id": "I4tGw81HFTo4",
    "outputId": "8a80990a-7fd8-4bfd-e647-d8f00e674e64"
   },
   "outputs": [
    {
     "data": {
      "text/plain": [
       "199.43004747745744"
      ]
     },
     "execution_count": 301,
     "metadata": {},
     "output_type": "execute_result"
    }
   ],
   "source": [
    "mae(CNN_test, y_test)"
   ]
  },
  {
   "cell_type": "code",
   "execution_count": null,
   "metadata": {
    "id": "np-5V-8ZF_GU"
   },
   "outputs": [],
   "source": [
    "from sklearn.metrics import mean_squared_error"
   ]
  },
  {
   "cell_type": "code",
   "execution_count": null,
   "metadata": {
    "colab": {
     "base_uri": "https://localhost:8080/"
    },
    "id": "XPbuIp14F0PG",
    "outputId": "4890d2cc-8cda-4ec0-f2da-f0c462e0a534"
   },
   "outputs": [
    {
     "data": {
      "text/plain": [
       "251.65153278395314"
      ]
     },
     "execution_count": 303,
     "metadata": {},
     "output_type": "execute_result"
    }
   ],
   "source": [
    "mean_squared_error(CNN_test, y_test, squared = False)"
   ]
  },
  {
   "cell_type": "code",
   "execution_count": null,
   "metadata": {
    "colab": {
     "base_uri": "https://localhost:8080/",
     "height": 281
    },
    "id": "jHsju-wnFTdN",
    "outputId": "0b7fa8ca-a259-4d34-999b-c5c819dc0f14"
   },
   "outputs": [
    {
     "data": {
      "image/png": "[encoded data removed]",
      "text/plain": [
       "<Figure size 864x288 with 1 Axes>"
      ]
     },
     "metadata": {
      "needs_background": "light"
     },
     "output_type": "display_data"
    }
   ],
   "source": [
    "plt.figure(figsize=(12,4))\n",
    "\n",
    "plt.scatter(df.index[:train_length-n_in] , y_train, color='orange', label = \"Actual Production data\")\n",
    "plt.plot(df.index[:train_length-n_in] , CNN_train, label = \"Model fit\")\n",
    "\n",
    "plt.scatter(df.index[train_length+n_in:] , y_test, color='green', label = \"Test data\")\n",
    "plt.plot(df.index[train_length+n_in:] , CNN_test, color='black', label = \"Predicted values\")\n",
    "\n",
    "\n",
    "# plt.axvline(df.index[train_length+n_in], color='red')\n",
    "plt.title('CNN MODEL')\n",
    "plt.legend(loc=\"upper right\")\n",
    "\n",
    "plt.grid()"
   ]
  },
  {
   "cell_type": "code",
   "execution_count": null,
   "metadata": {
    "id": "x14VB17nXoLg"
   },
   "outputs": [],
   "source": [
    "# import joblib"
   ]
  },
  {
   "cell_type": "code",
   "execution_count": null,
   "metadata": {
    "id": "AHi-lqkaX6Fk"
   },
   "outputs": [],
   "source": [
    "# filename = 'CNN_model1.joblib'\n",
    "# joblib.dump(CNN_model, filename)"
   ]
  }
 ],
 "metadata": {
  "colab": {
   "provenance": []
  },
  "kernelspec": {
   "display_name": "Python 3 (ipykernel)",
   "language": "python",
   "name": "python3"
  },
  "language_info": {
   "codemirror_mode": {
    "name": "ipython",
    "version": 3
   },
   "file_extension": ".py",
   "mimetype": "text/x-python",
   "name": "python",
   "nbconvert_exporter": "python",
   "pygments_lexer": "ipython3",
   "version": "3.10.9"
  }
 },
 "nbformat": 4,
 "nbformat_minor": 1
}
